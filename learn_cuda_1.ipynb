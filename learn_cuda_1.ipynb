{
  "nbformat": 4,
  "nbformat_minor": 0,
  "metadata": {
    "colab": {
      "provenance": [],
      "gpuType": "T4",
      "authorship_tag": "ABX9TyOvpFyKESfyry+ma4CXlLEz",
      "include_colab_link": true
    },
    "kernelspec": {
      "name": "python3",
      "display_name": "Python 3"
    },
    "language_info": {
      "name": "python"
    },
    "accelerator": "GPU"
  },
  "cells": [
    {
      "cell_type": "markdown",
      "metadata": {
        "id": "view-in-github",
        "colab_type": "text"
      },
      "source": [
        "<a href=\"https://colab.research.google.com/github/atharva0300/Learn-Cuda/blob/main/learn_cuda_1.ipynb\" target=\"_parent\"><img src=\"https://colab.research.google.com/assets/colab-badge.svg\" alt=\"Open In Colab\"/></a>"
      ]
    },
    {
      "cell_type": "code",
      "execution_count": 54,
      "metadata": {
        "colab": {
          "base_uri": "https://localhost:8080/"
        },
        "id": "HubH_1NNfGd-",
        "outputId": "8b482ba1-09d9-4dab-c73b-eed6dae07601"
      },
      "outputs": [
        {
          "output_type": "stream",
          "name": "stdout",
          "text": [
            "Requirement already satisfied: nvcc4jupyter in /usr/local/lib/python3.10/dist-packages (1.1.0)\n"
          ]
        }
      ],
      "source": [
        "pip install nvcc4jupyter"
      ]
    },
    {
      "cell_type": "code",
      "source": [
        "%load_ext nvcc4jupyter"
      ],
      "metadata": {
        "colab": {
          "base_uri": "https://localhost:8080/"
        },
        "id": "ZvaQc5ygfTWQ",
        "outputId": "89d9e158-b84b-4fd4-8387-3937a85e3f87"
      },
      "execution_count": 55,
      "outputs": [
        {
          "output_type": "stream",
          "name": "stdout",
          "text": [
            "The nvcc4jupyter extension is already loaded. To reload it, use:\n",
            "  %reload_ext nvcc4jupyter\n"
          ]
        }
      ]
    },
    {
      "cell_type": "code",
      "source": [
        "!update-alternatives --install /usr/bin/gcc gcc /usr/bin/gcc-7 60 --slave /usr/bin/g++ g++ /usr/bin/g++-7\n"
      ],
      "metadata": {
        "colab": {
          "base_uri": "https://localhost:8080/"
        },
        "id": "ihFZcuTKfUgP",
        "outputId": "42798cff-5d7d-46e1-f810-297b8f47d353"
      },
      "execution_count": 56,
      "outputs": [
        {
          "output_type": "stream",
          "name": "stdout",
          "text": [
            "update-alternatives: error: alternative path /usr/bin/gcc-7 doesn't exist\n"
          ]
        }
      ]
    },
    {
      "cell_type": "code",
      "source": [
        "!gcc --version\n"
      ],
      "metadata": {
        "colab": {
          "base_uri": "https://localhost:8080/"
        },
        "id": "4QPUKMkkfVus",
        "outputId": "f439db80-5b95-4942-94d8-bf8dffa3f7b9"
      },
      "execution_count": 57,
      "outputs": [
        {
          "output_type": "stream",
          "name": "stdout",
          "text": [
            "gcc (Ubuntu 11.4.0-1ubuntu1~22.04) 11.4.0\n",
            "Copyright (C) 2021 Free Software Foundation, Inc.\n",
            "This is free software; see the source for copying conditions.  There is NO\n",
            "warranty; not even for MERCHANTABILITY or FITNESS FOR A PARTICULAR PURPOSE.\n",
            "\n"
          ]
        }
      ]
    },
    {
      "cell_type": "code",
      "source": [
        "%%cuda\n",
        "#include<bits/stdc++.h>\n",
        "using namespace std;\n",
        "\n",
        "int main(){\n",
        "    cout<<\"This is atharva\\n\";\n",
        "}"
      ],
      "metadata": {
        "colab": {
          "base_uri": "https://localhost:8080/"
        },
        "id": "voEzOOo2fWuj",
        "outputId": "52796692-c31f-408f-9956-f34eef1c3a02"
      },
      "execution_count": 58,
      "outputs": [
        {
          "output_type": "stream",
          "name": "stdout",
          "text": [
            "This is atharva\n",
            "\n"
          ]
        }
      ]
    },
    {
      "cell_type": "code",
      "source": [
        "%%cuda\n",
        "#include<bits/stdc++.h>\n",
        "#include<cuda.h>\n",
        "using namespace std;\n",
        "\n",
        "// compiler used here is : nvcc\n",
        "\n",
        "// __global__ tells that the function dbkernel() will be run on a gpu and not a cpu\n",
        "// return type is void\n",
        "// this gets executed in the device. This is the device code\n",
        "// the function name dbkernel() can be changed to any other function name\n",
        "__global__ void dbkernel(){\n",
        "    printf(\"This is Atharva\\n\");\n",
        "    // std::cout statement is not allowed in device code\n",
        "    // ptintf() statement is used instead\n",
        "    // the cpu and the gpu is executing asynchronously\n",
        "}\n",
        "\n",
        "\n",
        "// this is the host code\n",
        "// this code ( int main() ) function runs on the host device\n",
        "int main(){\n",
        "    // dbkernel() name of the function ( kernel launch )\n",
        "    // the <<<1,1,>>> means launching the kernel with 1x1 thread\n",
        "    dbkernel<<<1 , 1>>>();\n",
        "\n",
        "    // wait for the deivce operations to finish and then come back to the host\n",
        "    // for synchronous computation\n",
        "    cudaDeviceSynchronize();\n",
        "    // with this we can see the output of the dbkernel() function as the host and the device will run synchronously\n",
        "    // without this statement, the output statement may nor may not be displayed because the device and the\n",
        "    // host machines are running asynchronously.\n",
        "    // this cudaDeviceSynchronize() function waits for the device code to finish\n",
        "    // cpu kernel and the gpu run's asynchronously\n",
        "    return 0;\n",
        "}"
      ],
      "metadata": {
        "colab": {
          "base_uri": "https://localhost:8080/"
        },
        "id": "F4y1t4Lxfi0f",
        "outputId": "81d15484-794e-42d5-f149-e3fdba45c672"
      },
      "execution_count": 59,
      "outputs": [
        {
          "output_type": "stream",
          "name": "stdout",
          "text": [
            "This is Atharva\n",
            "\n"
          ]
        }
      ]
    },
    {
      "cell_type": "code",
      "source": [
        "%%cuda\n",
        "#include<bits/stdc++.h>\n",
        "#include<cuda.h>\n",
        "using namespace std;\n",
        "\n",
        "__global__ void dbkernel(){\n",
        "    printf(\"This is Atharva\\n\");\n",
        "}\n",
        "\n",
        "\n",
        "// this is the host code\n",
        "// this code ( int main() ) function runs on the host device\n",
        "int main(){\n",
        "    dbkernel<<<1 , 1>>>();\n",
        "    dbkernel<<<1 , 1>>>();\n",
        "    dbkernel<<<1 , 1>>>();\n",
        "    cudaDeviceSynchronize();\n",
        "    printf(\"on cpu\\n\");\n",
        "    return 0;\n",
        "}"
      ],
      "metadata": {
        "colab": {
          "base_uri": "https://localhost:8080/"
        },
        "id": "f2RUeWYGgyyl",
        "outputId": "d68ae7cb-308c-48bc-a64a-0cfa93e8dc60"
      },
      "execution_count": 60,
      "outputs": [
        {
          "output_type": "stream",
          "name": "stdout",
          "text": [
            "This is Atharva\n",
            "This is Atharva\n",
            "This is Atharva\n",
            "on cpu\n",
            "\n"
          ]
        }
      ]
    },
    {
      "cell_type": "code",
      "source": [
        "%%cuda\n",
        "#include<bits/stdc++.h>\n",
        "#include<cuda.h>\n",
        "using namespace std;\n",
        "\n",
        "__global__ void dbkernel(){\n",
        "    printf(\"This is Atharva\\n\");\n",
        "}\n",
        "\n",
        "\n",
        "// this is the host code\n",
        "// this code ( int main() ) function runs on the host device\n",
        "int main(){\n",
        "    dbkernel<<<1 , 1>>>();\n",
        "\n",
        "    cudaDeviceSynchronize();\n",
        "    printf(\"on cpu\\n\");\n",
        "\n",
        "    dbkernel<<<1 , 1>>>();\n",
        "    dbkernel<<<1 , 1>>>();\n",
        "    return 0;\n",
        "}"
      ],
      "metadata": {
        "colab": {
          "base_uri": "https://localhost:8080/"
        },
        "id": "U2x_0ZJrlHOD",
        "outputId": "b691d1dd-53c3-428b-8c4c-6bab513732c0"
      },
      "execution_count": 61,
      "outputs": [
        {
          "output_type": "stream",
          "name": "stdout",
          "text": [
            "This is Atharva\n",
            "on cpu\n",
            "\n"
          ]
        }
      ]
    },
    {
      "cell_type": "code",
      "source": [
        "%%cuda\n",
        "#include<bits/stdc++.h>\n",
        "#include<cuda.h>\n",
        "using namespace std;\n",
        "\n",
        "__global__ void dbkernel(){\n",
        "    printf(\"This is Atharva\\n\");\n",
        "}\n",
        "\n",
        "\n",
        "// this is the host code\n",
        "// this code ( int main() ) function runs on the host device\n",
        "int main(){\n",
        "    dbkernel<<<1 , 1>>>();\n",
        "\n",
        "    cudaDeviceSynchronize();\n",
        "\n",
        "    dbkernel<<<1 , 1>>>();\n",
        "    dbkernel<<<1 , 1>>>();\n",
        "\n",
        "    printf(\"on cpu\\n\");\n",
        "    return 0;\n",
        "}"
      ],
      "metadata": {
        "colab": {
          "base_uri": "https://localhost:8080/"
        },
        "id": "80SlMJL2lRxx",
        "outputId": "9764e6d6-7e5d-491a-9327-919a63ba98be"
      },
      "execution_count": 62,
      "outputs": [
        {
          "output_type": "stream",
          "name": "stdout",
          "text": [
            "This is Atharva\n",
            "on cpu\n",
            "\n"
          ]
        }
      ]
    },
    {
      "cell_type": "code",
      "source": [
        "%%cuda\n",
        "#include<bits/stdc++.h>\n",
        "#include<cuda.h>\n",
        "using namespace std;\n",
        "\n",
        "__global__ void dbkernel(){\n",
        "    printf(\"This is Atharva\\n\");\n",
        "}\n",
        "\n",
        "__global__ void dbkernel2(){\n",
        "    printf(\"This is Atharva 2\\n\");\n",
        "}\n",
        "\n",
        "// this is the host code\n",
        "// this code ( int main() ) function runs on the host device\n",
        "int main(){\n",
        "    dbkernel<<<1 , 1>>>();\n",
        "    dbkernel2<<<1 , 1>>>();\n",
        "\n",
        "    cudaDeviceSynchronize();\n",
        "\n",
        "    printf(\"on cpu\\n\");\n",
        "    return 0;\n",
        "}"
      ],
      "metadata": {
        "colab": {
          "base_uri": "https://localhost:8080/"
        },
        "id": "KbS5ikT2lWYq",
        "outputId": "6f26c1fd-eb94-49b4-904f-c5f0c933c108"
      },
      "execution_count": 63,
      "outputs": [
        {
          "output_type": "stream",
          "name": "stdout",
          "text": [
            "This is Atharva\n",
            "This is Atharva 2\n",
            "on cpu\n",
            "\n"
          ]
        }
      ]
    },
    {
      "cell_type": "code",
      "source": [
        "%%cuda\n",
        "#include<bits/stdc++.h>\n",
        "#include<cuda.h>\n",
        "using namespace std;\n",
        "\n",
        "__global__ void dbkernel(){\n",
        "    printf(\"This is Atharva\\n\");\n",
        "}\n",
        "\n",
        "\n",
        "// this is the host code\n",
        "// this code ( int main() ) function runs on the host device\n",
        "int main(){\n",
        "    dbkernel<<<1 , 1>>>();\n",
        "    printf(\"cpu one\\n\");\n",
        "\n",
        "    dbkernel<<<1 , 1>>>();\n",
        "    printf(\"cpu two\\n\");\n",
        "\n",
        "    dbkernel<<<1 , 1>>>();\n",
        "    printf(\"cpu three\\n\");\n",
        "\n",
        "    cudaDeviceSynchronize();\n",
        "\n",
        "    printf(\"on cpu\\n\");\n",
        "    return 0;\n",
        "}"
      ],
      "metadata": {
        "colab": {
          "base_uri": "https://localhost:8080/"
        },
        "id": "de4Lx0E8lonr",
        "outputId": "c1399f4e-c63c-46c9-d12d-0d245c4db53e"
      },
      "execution_count": 64,
      "outputs": [
        {
          "output_type": "stream",
          "name": "stdout",
          "text": [
            "cpu one\n",
            "cpu two\n",
            "cpu three\n",
            "This is Atharva\n",
            "This is Atharva\n",
            "This is Atharva\n",
            "on cpu\n",
            "\n"
          ]
        }
      ]
    },
    {
      "cell_type": "code",
      "source": [
        "%%cuda\n",
        "#include<bits/stdc++.h>\n",
        "#include<cuda.h>\n",
        "using namespace std;\n",
        "\n",
        "__global__ void dbkernel(){\n",
        "    printf(\"This is Atharva\\n\");\n",
        "}\n",
        "\n",
        "\n",
        "// this is the host code\n",
        "// this code ( int main() ) function runs on the host device\n",
        "int main(){\n",
        "    // using multiple threads\n",
        "    // 1 -> denoting the number of blocks\n",
        "    // 32 -> denoting the number of threads in the block\n",
        "    // therefore -> 1x32 => 32 threads in total\n",
        "    dbkernel<<<1 , 32>>>();\n",
        "    cudaDeviceSynchronize();\n",
        "    printf(\"on cpu\\n\");\n",
        "    return 0;\n",
        "}"
      ],
      "metadata": {
        "colab": {
          "base_uri": "https://localhost:8080/"
        },
        "id": "ynLQ4ytsmEAI",
        "outputId": "2ee0a9c2-ae2b-4fb8-e23e-a1f551b07d64"
      },
      "execution_count": 65,
      "outputs": [
        {
          "output_type": "stream",
          "name": "stdout",
          "text": [
            "This is Atharva\n",
            "This is Atharva\n",
            "This is Atharva\n",
            "This is Atharva\n",
            "This is Atharva\n",
            "This is Atharva\n",
            "This is Atharva\n",
            "This is Atharva\n",
            "This is Atharva\n",
            "This is Atharva\n",
            "This is Atharva\n",
            "This is Atharva\n",
            "This is Atharva\n",
            "This is Atharva\n",
            "This is Atharva\n",
            "This is Atharva\n",
            "This is Atharva\n",
            "This is Atharva\n",
            "This is Atharva\n",
            "This is Atharva\n",
            "This is Atharva\n",
            "This is Atharva\n",
            "This is Atharva\n",
            "This is Atharva\n",
            "This is Atharva\n",
            "This is Atharva\n",
            "This is Atharva\n",
            "This is Atharva\n",
            "This is Atharva\n",
            "This is Atharva\n",
            "This is Atharva\n",
            "This is Atharva\n",
            "on cpu\n",
            "\n"
          ]
        }
      ]
    },
    {
      "cell_type": "markdown",
      "source": [
        "![image.png](data:image/png;base64,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)"
      ],
      "metadata": {
        "id": "IhThQvwZnam_"
      }
    },
    {
      "cell_type": "code",
      "source": [
        "%%cuda\n",
        "#include<bits/stdc++.h>\n",
        "#include<cuda.h>\n",
        "using namespace std;\n",
        "\n",
        "#define N 100\n",
        "\n",
        "int main(){\n",
        "    int i;\n",
        "    for(i=0;i<N;i++){\n",
        "        printf(\"%d\\n\" , i*i);\n",
        "    }\n",
        "    return 0;\n",
        "}\n"
      ],
      "metadata": {
        "colab": {
          "base_uri": "https://localhost:8080/"
        },
        "id": "CHHbyHChnznk",
        "outputId": "57214995-5f20-443c-826a-4ce6832c675f"
      },
      "execution_count": 66,
      "outputs": [
        {
          "output_type": "stream",
          "name": "stdout",
          "text": [
            "0\n",
            "1\n",
            "4\n",
            "9\n",
            "16\n",
            "25\n",
            "36\n",
            "49\n",
            "64\n",
            "81\n",
            "100\n",
            "121\n",
            "144\n",
            "169\n",
            "196\n",
            "225\n",
            "256\n",
            "289\n",
            "324\n",
            "361\n",
            "400\n",
            "441\n",
            "484\n",
            "529\n",
            "576\n",
            "625\n",
            "676\n",
            "729\n",
            "784\n",
            "841\n",
            "900\n",
            "961\n",
            "1024\n",
            "1089\n",
            "1156\n",
            "1225\n",
            "1296\n",
            "1369\n",
            "1444\n",
            "1521\n",
            "1600\n",
            "1681\n",
            "1764\n",
            "1849\n",
            "1936\n",
            "2025\n",
            "2116\n",
            "2209\n",
            "2304\n",
            "2401\n",
            "2500\n",
            "2601\n",
            "2704\n",
            "2809\n",
            "2916\n",
            "3025\n",
            "3136\n",
            "3249\n",
            "3364\n",
            "3481\n",
            "3600\n",
            "3721\n",
            "3844\n",
            "3969\n",
            "4096\n",
            "4225\n",
            "4356\n",
            "4489\n",
            "4624\n",
            "4761\n",
            "4900\n",
            "5041\n",
            "5184\n",
            "5329\n",
            "5476\n",
            "5625\n",
            "5776\n",
            "5929\n",
            "6084\n",
            "6241\n",
            "6400\n",
            "6561\n",
            "6724\n",
            "6889\n",
            "7056\n",
            "7225\n",
            "7396\n",
            "7569\n",
            "7744\n",
            "7921\n",
            "8100\n",
            "8281\n",
            "8464\n",
            "8649\n",
            "8836\n",
            "9025\n",
            "9216\n",
            "9409\n",
            "9604\n",
            "9801\n",
            "\n"
          ]
        }
      ]
    },
    {
      "cell_type": "code",
      "source": [
        "%%cuda\n",
        "// making the above code execute parallely\n",
        "#include<bits/stdc++.h>\n",
        "#include<cuda.h>\n",
        "using namespace std;\n",
        "\n",
        "#define N 100\n",
        "\n",
        "__global__ void fun(){\n",
        "    printf(\"%d\\n\" , threadIdx.x * threadIdx.x);\n",
        "    // computation is done in jumbled order so the output will be printed in jumbled order\n",
        "    // threadIdx means the thread\n",
        "    // the threadIdx.x value is the thread number\n",
        "    // note that there is no loop here\n",
        "}\n",
        "\n",
        "int main(){\n",
        "    // 1 block and N threads\n",
        "    // our N is 100, so 100 threads\n",
        "    fun<<<1 , N>>>();\n",
        "    cudaDeviceSynchronize();\n",
        "    return 0;\n",
        "}"
      ],
      "metadata": {
        "colab": {
          "base_uri": "https://localhost:8080/"
        },
        "id": "G8coqzcyn_tQ",
        "outputId": "43868c3f-37a8-420e-e621-411aa8a8380e"
      },
      "execution_count": 67,
      "outputs": [
        {
          "output_type": "stream",
          "name": "stdout",
          "text": [
            "9216\n",
            "9409\n",
            "9604\n",
            "9801\n",
            "0\n",
            "1\n",
            "4\n",
            "9\n",
            "16\n",
            "25\n",
            "36\n",
            "49\n",
            "64\n",
            "81\n",
            "100\n",
            "121\n",
            "144\n",
            "169\n",
            "196\n",
            "225\n",
            "256\n",
            "289\n",
            "324\n",
            "361\n",
            "400\n",
            "441\n",
            "484\n",
            "529\n",
            "576\n",
            "625\n",
            "676\n",
            "729\n",
            "784\n",
            "841\n",
            "900\n",
            "961\n",
            "1024\n",
            "1089\n",
            "1156\n",
            "1225\n",
            "1296\n",
            "1369\n",
            "1444\n",
            "1521\n",
            "1600\n",
            "1681\n",
            "1764\n",
            "1849\n",
            "1936\n",
            "2025\n",
            "2116\n",
            "2209\n",
            "2304\n",
            "2401\n",
            "2500\n",
            "2601\n",
            "2704\n",
            "2809\n",
            "2916\n",
            "3025\n",
            "3136\n",
            "3249\n",
            "3364\n",
            "3481\n",
            "3600\n",
            "3721\n",
            "3844\n",
            "3969\n",
            "4096\n",
            "4225\n",
            "4356\n",
            "4489\n",
            "4624\n",
            "4761\n",
            "4900\n",
            "5041\n",
            "5184\n",
            "5329\n",
            "5476\n",
            "5625\n",
            "5776\n",
            "5929\n",
            "6084\n",
            "6241\n",
            "6400\n",
            "6561\n",
            "6724\n",
            "6889\n",
            "7056\n",
            "7225\n",
            "7396\n",
            "7569\n",
            "7744\n",
            "7921\n",
            "8100\n",
            "8281\n",
            "8464\n",
            "8649\n",
            "8836\n",
            "9025\n",
            "\n"
          ]
        }
      ]
    },
    {
      "cell_type": "code",
      "source": [],
      "metadata": {
        "id": "9QjJBcgYoxZH"
      },
      "execution_count": 67,
      "outputs": []
    }
  ]
}